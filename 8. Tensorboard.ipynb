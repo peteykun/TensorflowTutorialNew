{
 "cells": [
  {
   "cell_type": "code",
   "execution_count": 1,
   "metadata": {
    "collapsed": false
   },
   "outputs": [],
   "source": [
    "import tensorflow as tf\n",
    "import numpy as np\n",
    "import matplotlib.pyplot as plt\n",
    "%matplotlib inline\n",
    "from inline_tensorboard import show_graph\n",
    "from IPython.display import Image"
   ]
  },
  {
   "cell_type": "code",
   "execution_count": 2,
   "metadata": {
    "collapsed": true
   },
   "outputs": [],
   "source": [
    "sess = tf.InteractiveSession()"
   ]
  },
  {
   "cell_type": "code",
   "execution_count": 3,
   "metadata": {
    "collapsed": true
   },
   "outputs": [],
   "source": [
    "!rm -rf ./summaries"
   ]
  },
  {
   "cell_type": "markdown",
   "metadata": {
    "collapsed": true
   },
   "source": [
    "# Let's generate some data"
   ]
  },
  {
   "cell_type": "code",
   "execution_count": 4,
   "metadata": {
    "collapsed": false
   },
   "outputs": [
    {
     "data": {
      "image/png": "[encoded data removed]",
      "text/plain": [
       "<matplotlib.figure.Figure at 0x7ff274397690>"
      ]
     },
     "metadata": {},
     "output_type": "display_data"
    }
   ],
   "source": [
    "x11, x12 = np.random.multivariate_normal([1, 1], 0.1 * np.eye(2), 5000).T\n",
    "x21, x22 = np.random.multivariate_normal([-1, -1], 0.1 * np.eye(2), 5000).T\n",
    "\n",
    "x_ = np.array([np.concatenate([x11, x21]),\n",
    "              np.concatenate([x12, x22])]).T\n",
    "y_ = np.array([0] * 5000 + [1] * 5000)\n",
    "\n",
    "plt.scatter(x_[:,0], x_[:,1], color=['g'] * 5000 + ['b'] * 5000)\n",
    "plt.show()"
   ]
  },
  {
   "cell_type": "markdown",
   "metadata": {},
   "source": [
    "# Variable summaries"
   ]
  },
  {
   "cell_type": "code",
   "execution_count": 5,
   "metadata": {
    "collapsed": true
   },
   "outputs": [],
   "source": [
    "def variable_summaries(var, name='summaries'):\n",
    "    with tf.name_scope(name):\n",
    "        mean = tf.reduce_mean(var)\n",
    "        tf.summary.scalar('mean', mean)\n",
    "        \n",
    "        with tf.name_scope('stddev'):\n",
    "            stddev = tf.sqrt(tf.reduce_mean(tf.square(var - mean)))\n",
    "        \n",
    "        tf.summary.scalar('stddev', stddev)\n",
    "        tf.summary.scalar('max', tf.reduce_max(var))\n",
    "        tf.summary.scalar('min', tf.reduce_min(var))"
   ]
  },
  {
   "cell_type": "markdown",
   "metadata": {},
   "source": [
    "# Network\n",
    "\n",
    "$h = W x + b$  \n",
    "$\\hat{y} = \\sigma(h)$"
   ]
  },
  {
   "cell_type": "code",
   "execution_count": 6,
   "metadata": {
    "collapsed": true
   },
   "outputs": [],
   "source": [
    "tf.reset_default_graph()\n",
    "sess = tf.InteractiveSession()"
   ]
  },
  {
   "cell_type": "code",
   "execution_count": 7,
   "metadata": {
    "collapsed": true
   },
   "outputs": [],
   "source": [
    "def get_neuron(x):\n",
    "    W = tf.Variable(np.array([1.,1.]), \n",
    "                    dtype=tf.float32,\n",
    "                    name=\"Weight\")\n",
    "    \n",
    "    # add summaries\n",
    "    variable_summaries(W, \"Weight\")\n",
    "    \n",
    "    b = tf.Variable(np.array([0.],),\n",
    "                    dtype=tf.float32,\n",
    "                    name=\"bias\")\n",
    "    \n",
    "    # add summaries\n",
    "    variable_summaries(b, \"bias\")\n",
    "\n",
    "    prod = tf.reduce_sum(W * x) + b\n",
    "    neuron = 1 / (1 + tf.exp(-prod))\n",
    "    \n",
    "    return neuron"
   ]
  },
  {
   "cell_type": "code",
   "execution_count": 8,
   "metadata": {
    "collapsed": true
   },
   "outputs": [],
   "source": [
    "x = tf.placeholder(tf.float32, name=\"input\")\n",
    "prediction = get_neuron(x)"
   ]
  },
  {
   "cell_type": "code",
   "execution_count": 9,
   "metadata": {
    "collapsed": false
   },
   "outputs": [],
   "source": [
    "target = tf.placeholder(tf.float32)\n",
    "loss   = (prediction - target) ** 2"
   ]
  },
  {
   "cell_type": "code",
   "execution_count": 10,
   "metadata": {
    "collapsed": true
   },
   "outputs": [],
   "source": [
    "optimizer = tf.train.GradientDescentOptimizer(0.01)\n",
    "optimize  = optimizer.minimize(loss)"
   ]
  },
  {
   "cell_type": "markdown",
   "metadata": {},
   "source": [
    "Merge all the summaries and write them out to the directory `./summaries`."
   ]
  },
  {
   "cell_type": "code",
   "execution_count": 11,
   "metadata": {
    "collapsed": true
   },
   "outputs": [],
   "source": [
    "merged = tf.summary.merge_all()\n",
    "writer = tf.summary.FileWriter('./summaries', sess.graph)"
   ]
  },
  {
   "cell_type": "code",
   "execution_count": 12,
   "metadata": {
    "collapsed": true
   },
   "outputs": [],
   "source": [
    "tf.global_variables_initializer().run()"
   ]
  },
  {
   "cell_type": "code",
   "execution_count": 13,
   "metadata": {
    "collapsed": false
   },
   "outputs": [],
   "source": [
    "loss_history = []\n",
    "\n",
    "for iteration in range(1000):\n",
    "    index = np.random.randint(0, 10000)\n",
    "    placeholder_values = {\n",
    "        x:      x_[index],\n",
    "        target: y_[index]\n",
    "    }\n",
    "    \n",
    "    summary, t_loss, _ = sess.run([merged, loss, optimize], feed_dict=placeholder_values)\n",
    "    loss_history.append(t_loss)\n",
    "    \n",
    "    writer.add_summary(summary, iteration)"
   ]
  },
  {
   "cell_type": "markdown",
   "metadata": {},
   "source": [
    "# Tensorboard"
   ]
  },
  {
   "cell_type": "markdown",
   "metadata": {},
   "source": [
    "Run tensorboard using the command:\n",
    "\n",
    "    $ tensorboard --logdir=./summaries\n",
    "    \n",
    "Navigate to [http://0.0.0.0:6006/](http://0.0.0.0:6006/) in your browser."
   ]
  }
 ],
 "metadata": {
  "kernelspec": {
   "display_name": "Python 2",
   "language": "python",
   "name": "python2"
  },
  "language_info": {
   "codemirror_mode": {
    "name": "ipython",
    "version": 2
   },
   "file_extension": ".py",
   "mimetype": "text/x-python",
   "name": "python",
   "nbconvert_exporter": "python",
   "pygments_lexer": "ipython2",
   "version": "2.7.13"
  }
 },
 "nbformat": 4,
 "nbformat_minor": 0
}
