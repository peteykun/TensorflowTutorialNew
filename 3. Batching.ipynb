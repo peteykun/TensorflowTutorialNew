{
 "cells": [
  {
   "cell_type": "code",
   "execution_count": 1,
   "metadata": {
    "collapsed": true
   },
   "outputs": [],
   "source": [
    "import tensorflow as tf\n",
    "import numpy as np\n",
    "import matplotlib.pyplot as plt\n",
    "%matplotlib inline\n",
    "from inline_tensorboard import show_graph\n",
    "from IPython.display import Image"
   ]
  },
  {
   "cell_type": "code",
   "execution_count": 2,
   "metadata": {
    "collapsed": true
   },
   "outputs": [],
   "source": [
    "sess = tf.InteractiveSession()"
   ]
  },
  {
   "cell_type": "markdown",
   "metadata": {},
   "source": [
    "# Generate Data\n",
    "Let's regenerate the same dataset."
   ]
  },
  {
   "cell_type": "code",
   "execution_count": 3,
   "metadata": {
    "collapsed": false
   },
   "outputs": [
    {
     "data": {
      "image/png": "[encoded data removed]",
      "text/plain": [
       "<matplotlib.figure.Figure at 0x7fbdf78bf890>"
      ]
     },
     "metadata": {},
     "output_type": "display_data"
    }
   ],
   "source": [
    "x11, x12 = np.random.multivariate_normal([1, 1], 0.1 * np.eye(2), 5000).T\n",
    "x21, x22 = np.random.multivariate_normal([-1, -1], 0.1 * np.eye(2), 5000).T\n",
    "\n",
    "x_ = np.array([np.concatenate([x11, x21]),\n",
    "              np.concatenate([x12, x22])]).T\n",
    "y_ = np.array([0] * 5000 + [1] * 5000)\n",
    "\n",
    "plt.scatter(x_[:,0], x_[:,1], color=['g'] * 5000 + ['b'] * 5000)\n",
    "plt.show()"
   ]
  },
  {
   "cell_type": "markdown",
   "metadata": {},
   "source": [
    "# Initializers\n",
    "You can use random initializations for the weights."
   ]
  },
  {
   "cell_type": "code",
   "execution_count": 4,
   "metadata": {
    "collapsed": true
   },
   "outputs": [],
   "source": [
    "initializer = tf.random_uniform_initializer(minval=-np.sqrt(3), maxval=np.sqrt(3))"
   ]
  },
  {
   "cell_type": "code",
   "execution_count": 5,
   "metadata": {
    "collapsed": false
   },
   "outputs": [],
   "source": [
    "with tf.variable_scope('foo'):\n",
    "    random_val = tf.get_variable(\"random_val\", shape=tf.TensorShape([]), dtype=tf.float32, initializer=initializer)"
   ]
  },
  {
   "cell_type": "code",
   "execution_count": 6,
   "metadata": {
    "collapsed": false
   },
   "outputs": [
    {
     "name": "stdout",
     "output_type": "stream",
     "text": [
      "-0.509371\n"
     ]
    }
   ],
   "source": [
    "random_val.initializer.run()\n",
    "print random_val.eval()"
   ]
  },
  {
   "cell_type": "markdown",
   "metadata": {},
   "source": [
    "You cannot redefine variables using `get_variable` once it has been defined."
   ]
  },
  {
   "cell_type": "code",
   "execution_count": 7,
   "metadata": {
    "collapsed": false
   },
   "outputs": [
    {
     "name": "stdout",
     "output_type": "stream",
     "text": [
      "Variable foo/random_val already exists, disallowed. Did you mean to set reuse=True in VarScope? Originally defined at:\n"
     ]
    }
   ],
   "source": [
    "with tf.variable_scope('foo'):\n",
    "    try:\n",
    "        random_val = tf.get_variable(\"random_val\")\n",
    "    except ValueError as e:\n",
    "        print str(e).split('\\n')[0]"
   ]
  },
  {
   "cell_type": "markdown",
   "metadata": {},
   "source": [
    "You can fetch the weights again. Useful for \"weight sharing\" across parts of a network."
   ]
  },
  {
   "cell_type": "code",
   "execution_count": 8,
   "metadata": {
    "collapsed": false
   },
   "outputs": [],
   "source": [
    "with tf.variable_scope('foo'):\n",
    "    tf.get_variable_scope().reuse_variables()\n",
    "    new_random_val = tf.get_variable(\"random_val\")"
   ]
  },
  {
   "cell_type": "code",
   "execution_count": 9,
   "metadata": {
    "collapsed": false
   },
   "outputs": [
    {
     "data": {
      "text/plain": [
       "-0.50937057"
      ]
     },
     "execution_count": 9,
     "metadata": {},
     "output_type": "execute_result"
    }
   ],
   "source": [
    "new_random_val.eval()"
   ]
  },
  {
   "cell_type": "markdown",
   "metadata": {},
   "source": [
    "# Building the network\n",
    "We need to construct the network in such a way that it accepts batched inputs and produced a batched output."
   ]
  },
  {
   "cell_type": "code",
   "execution_count": 10,
   "metadata": {
    "collapsed": true
   },
   "outputs": [],
   "source": [
    "x = tf.placeholder(tf.float32, shape=tf.TensorShape([None, 2]), name=\"input\")\n",
    "y = tf.placeholder(tf.float32, shape=tf.TensorShape([None]), name=\"input\")"
   ]
  },
  {
   "cell_type": "code",
   "execution_count": 11,
   "metadata": {
    "collapsed": true
   },
   "outputs": [],
   "source": [
    "initializer = tf.random_uniform_initializer(minval=-np.sqrt(3), maxval=np.sqrt(3))"
   ]
  },
  {
   "cell_type": "code",
   "execution_count": 12,
   "metadata": {
    "collapsed": false
   },
   "outputs": [],
   "source": [
    "W = tf.get_variable(\"Weight\",\n",
    "                    shape=tf.TensorShape([2, 1]),\n",
    "                    initializer=initializer,\n",
    "                    dtype=tf.float32)\n",
    "\n",
    "b = tf.get_variable(\"bias\",\n",
    "                    shape=tf.TensorShape([1]),\n",
    "                    initializer=initializer,\n",
    "                    dtype=tf.float32)"
   ]
  },
  {
   "cell_type": "code",
   "execution_count": 13,
   "metadata": {
    "collapsed": true
   },
   "outputs": [],
   "source": [
    "W.initializer.run()\n",
    "b.initializer.run()"
   ]
  },
  {
   "cell_type": "code",
   "execution_count": 14,
   "metadata": {
    "collapsed": true
   },
   "outputs": [],
   "source": [
    "# Linear layer\n",
    "h = tf.matmul(x, W) + b\n",
    "\n",
    "# Non-linearity\n",
    "prediction = tf.squeeze(tf.nn.sigmoid(h))\n",
    "\n",
    "# Loss\n",
    "loss = (prediction - y) ** 2"
   ]
  },
  {
   "cell_type": "code",
   "execution_count": 15,
   "metadata": {
    "collapsed": false
   },
   "outputs": [],
   "source": [
    "# Construct a \"batch\" of inputs\n",
    "batch_indices = np.random.randint(0, 10000, size=64)\n",
    "\n",
    "placeholder_values = {\n",
    "    x: x_[batch_indices],\n",
    "    y: y_[batch_indices]\n",
    "}"
   ]
  },
  {
   "cell_type": "code",
   "execution_count": 16,
   "metadata": {
    "collapsed": false
   },
   "outputs": [
    {
     "name": "stdout",
     "output_type": "stream",
     "text": [
      "Shape of x: (64, 2)\n",
      "Shape of y: (64,)\n"
     ]
    }
   ],
   "source": [
    "print 'Shape of x:', np.shape(x_[batch_indices])\n",
    "print 'Shape of y:', np.shape(y_[batch_indices])"
   ]
  },
  {
   "cell_type": "code",
   "execution_count": 17,
   "metadata": {
    "collapsed": false
   },
   "outputs": [
    {
     "name": "stdout",
     "output_type": "stream",
     "text": [
      "Shape of loss: (64,)\n"
     ]
    }
   ],
   "source": [
    "print 'Shape of loss:', np.shape(loss.eval(placeholder_values))"
   ]
  },
  {
   "cell_type": "markdown",
   "metadata": {},
   "source": [
    "# Training\n",
    "No changes required."
   ]
  },
  {
   "cell_type": "code",
   "execution_count": 18,
   "metadata": {
    "collapsed": true
   },
   "outputs": [],
   "source": [
    "optimizer = tf.train.GradientDescentOptimizer(0.01)\n",
    "optimize  = optimizer.minimize(loss)"
   ]
  },
  {
   "cell_type": "code",
   "execution_count": 19,
   "metadata": {
    "collapsed": true
   },
   "outputs": [],
   "source": [
    "loss_history = []\n",
    "\n",
    "for _ in range(1000):\n",
    "    batch_indices = np.random.randint(0, 10000, size=64)\n",
    "    placeholder_values = {\n",
    "        x: x_[batch_indices],\n",
    "        y: y_[batch_indices]\n",
    "    }\n",
    "    \n",
    "    optimize.run(placeholder_values)\n",
    "    loss_history.append(np.mean(loss.eval(placeholder_values)))"
   ]
  },
  {
   "cell_type": "code",
   "execution_count": 20,
   "metadata": {
    "collapsed": false
   },
   "outputs": [
    {
     "data": {
      "image/png": "[encoded data removed]",
      "text/plain": [
       "<matplotlib.figure.Figure at 0x7fbdf44efdd0>"
      ]
     },
     "metadata": {},
     "output_type": "display_data"
    }
   ],
   "source": [
    "plt.plot(range(len(loss_history)), np.array(loss_history))\n",
    "plt.xlabel('Time')\n",
    "plt.ylabel('$(y - \\hat{y}) ^ 2$')\n",
    "plt.title('Loss vs Time')\n",
    "plt.show()"
   ]
  },
  {
   "cell_type": "code",
   "execution_count": 21,
   "metadata": {
    "collapsed": false
   },
   "outputs": [],
   "source": [
    "results = []\n",
    "\n",
    "for index in range(10000):\n",
    "    placeholder_values = {\n",
    "        x: np.expand_dims(x_[index], 0)\n",
    "    }\n",
    "    \n",
    "    results.append(prediction.eval(placeholder_values))"
   ]
  },
  {
   "cell_type": "code",
   "execution_count": 22,
   "metadata": {
    "collapsed": false
   },
   "outputs": [
    {
     "name": "stdout",
     "output_type": "stream",
     "text": [
      "Correctly classified 10000 / 10000\n"
     ]
    }
   ],
   "source": [
    "print 'Correctly classified', np.count_nonzero(np.squeeze(np.round(results).astype(np.int32)) == y_), '/', len(y_)"
   ]
  }
 ],
 "metadata": {
  "kernelspec": {
   "display_name": "Python 2",
   "language": "python",
   "name": "python2"
  },
  "language_info": {
   "codemirror_mode": {
    "name": "ipython",
    "version": 2
   },
   "file_extension": ".py",
   "mimetype": "text/x-python",
   "name": "python",
   "nbconvert_exporter": "python",
   "pygments_lexer": "ipython2",
   "version": "2.7.13"
  }
 },
 "nbformat": 4,
 "nbformat_minor": 0
}
