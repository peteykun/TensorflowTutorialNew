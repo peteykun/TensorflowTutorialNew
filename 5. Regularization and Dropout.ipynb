{
 "cells": [
  {
   "cell_type": "code",
   "execution_count": 1,
   "metadata": {
    "collapsed": true
   },
   "outputs": [],
   "source": [
    "import tensorflow as tf\n",
    "import numpy as np\n",
    "import matplotlib.pyplot as plt\n",
    "%matplotlib inline\n",
    "from inline_tensorboard import show_graph\n",
    "from IPython.display import Image"
   ]
  },
  {
   "cell_type": "code",
   "execution_count": 2,
   "metadata": {
    "collapsed": true
   },
   "outputs": [],
   "source": [
    "sess = tf.InteractiveSession()"
   ]
  },
  {
   "cell_type": "markdown",
   "metadata": {},
   "source": [
    "# Generate Data\n",
    "Let's regenerate the same dataset."
   ]
  },
  {
   "cell_type": "code",
   "execution_count": 3,
   "metadata": {
    "collapsed": false
   },
   "outputs": [
    {
     "data": {
      "image/png": "[encoded data removed]",
      "text/plain": [
       "<matplotlib.figure.Figure at 0x7f87070418d0>"
      ]
     },
     "metadata": {},
     "output_type": "display_data"
    }
   ],
   "source": [
    "x11, x12 = np.random.multivariate_normal([1, 1], 0.1 * np.eye(2), 5000).T\n",
    "x21, x22 = np.random.multivariate_normal([-1, -1], 0.1 * np.eye(2), 5000).T\n",
    "\n",
    "x_ = np.array([np.concatenate([x11, x21]),\n",
    "              np.concatenate([x12, x22])]).T\n",
    "y_ = np.array([0] * 5000 + [1] * 5000)\n",
    "\n",
    "plt.scatter(x_[:,0], x_[:,1], color=['g'] * 5000 + ['b'] * 5000)\n",
    "plt.show()"
   ]
  },
  {
   "cell_type": "markdown",
   "metadata": {},
   "source": [
    "# Build the network\n",
    "We need to construct the network in such a way that it accepts batched inputs and produced a batched output."
   ]
  },
  {
   "cell_type": "code",
   "execution_count": 4,
   "metadata": {
    "collapsed": true
   },
   "outputs": [],
   "source": [
    "x = tf.placeholder(tf.float32, shape=tf.TensorShape([None, 2]), name=\"input\")\n",
    "y = tf.placeholder(tf.float32, shape=tf.TensorShape([None]), name=\"input\")"
   ]
  },
  {
   "cell_type": "code",
   "execution_count": 5,
   "metadata": {
    "collapsed": true
   },
   "outputs": [],
   "source": [
    "initializer = tf.random_uniform_initializer(minval=-np.sqrt(3), maxval=np.sqrt(3))"
   ]
  },
  {
   "cell_type": "code",
   "execution_count": 6,
   "metadata": {
    "collapsed": false
   },
   "outputs": [],
   "source": [
    "W1 = tf.get_variable(\"Weight_1\",\n",
    "                     shape=tf.TensorShape([2, 2]),\n",
    "                     initializer=initializer,\n",
    "                     dtype=tf.float32)\n",
    "\n",
    "b1 = tf.get_variable(\"bias_1\",\n",
    "                     shape=tf.TensorShape([2]),\n",
    "                     initializer=initializer,\n",
    "                     dtype=tf.float32)\n",
    "\n",
    "W2 = tf.get_variable(\"Weight_2\",\n",
    "                     shape=tf.TensorShape([2, 1]),\n",
    "                     initializer=initializer,\n",
    "                     dtype=tf.float32)\n",
    "\n",
    "b2 = tf.get_variable(\"bias_2\",\n",
    "                     shape=tf.TensorShape([1]),\n",
    "                     initializer=initializer,\n",
    "                     dtype=tf.float32)"
   ]
  },
  {
   "cell_type": "code",
   "execution_count": 7,
   "metadata": {
    "collapsed": true
   },
   "outputs": [],
   "source": [
    "for variable in [W1, W2, b1, b2]:\n",
    "    variable.initializer.run()"
   ]
  },
  {
   "cell_type": "code",
   "execution_count": 8,
   "metadata": {
    "collapsed": true
   },
   "outputs": [],
   "source": [
    "h = tf.nn.sigmoid(tf.matmul(x, W1) + b1)\n",
    "prediction = tf.squeeze(tf.nn.sigmoid(tf.matmul(h, W2) + b2))"
   ]
  },
  {
   "cell_type": "code",
   "execution_count": 9,
   "metadata": {
    "collapsed": false
   },
   "outputs": [],
   "source": [
    "# Construct a \"batch\" of inputs\n",
    "batch_indices = np.random.randint(0, 10000, size=64)\n",
    "\n",
    "placeholder_values = {\n",
    "    x: x_[batch_indices],\n",
    "    y: y_[batch_indices]\n",
    "}"
   ]
  },
  {
   "cell_type": "code",
   "execution_count": 10,
   "metadata": {
    "collapsed": false
   },
   "outputs": [
    {
     "name": "stdout",
     "output_type": "stream",
     "text": [
      "Shape of x: (64, 2)\n",
      "Shape of y: (64,)\n"
     ]
    }
   ],
   "source": [
    "print 'Shape of x:', np.shape(x_[batch_indices])\n",
    "print 'Shape of y:', np.shape(y_[batch_indices])"
   ]
  },
  {
   "cell_type": "markdown",
   "metadata": {},
   "source": [
    "# Regularization\n",
    "Just add the regularizer to the loss term!"
   ]
  },
  {
   "cell_type": "code",
   "execution_count": 11,
   "metadata": {
    "collapsed": true
   },
   "outputs": [],
   "source": [
    "beta = 0.01\n",
    "regularizer = tf.nn.l2_loss(W1) + tf.nn.l2_loss(W2)"
   ]
  },
  {
   "cell_type": "code",
   "execution_count": 12,
   "metadata": {
    "collapsed": false
   },
   "outputs": [],
   "source": [
    "loss = (prediction - y) ** 2"
   ]
  },
  {
   "cell_type": "code",
   "execution_count": 13,
   "metadata": {
    "collapsed": false
   },
   "outputs": [
    {
     "name": "stdout",
     "output_type": "stream",
     "text": [
      "Shape of regularizer: ()\n",
      "Shape of loss: (64,)\n"
     ]
    }
   ],
   "source": [
    "print 'Shape of regularizer:', np.shape(regularizer.eval(placeholder_values))\n",
    "print 'Shape of loss:', np.shape(loss.eval(placeholder_values))"
   ]
  },
  {
   "cell_type": "code",
   "execution_count": 14,
   "metadata": {
    "collapsed": true
   },
   "outputs": [],
   "source": [
    "loss = tf.reduce_mean(loss + beta * regularizer)"
   ]
  },
  {
   "cell_type": "code",
   "execution_count": 15,
   "metadata": {
    "collapsed": false
   },
   "outputs": [
    {
     "name": "stdout",
     "output_type": "stream",
     "text": [
      "Shape of loss: ()\n"
     ]
    }
   ],
   "source": [
    "print 'Shape of loss:', np.shape(loss.eval(placeholder_values))"
   ]
  },
  {
   "cell_type": "markdown",
   "metadata": {},
   "source": [
    "# Training\n",
    "No changes required."
   ]
  },
  {
   "cell_type": "code",
   "execution_count": 16,
   "metadata": {
    "collapsed": true
   },
   "outputs": [],
   "source": [
    "optimizer = tf.train.GradientDescentOptimizer(0.01)\n",
    "optimize  = optimizer.minimize(loss)"
   ]
  },
  {
   "cell_type": "code",
   "execution_count": 17,
   "metadata": {
    "collapsed": false
   },
   "outputs": [],
   "source": [
    "regu_history = []\n",
    "loss_history = []\n",
    "\n",
    "for _ in range(10000):\n",
    "    batch_indices = np.random.randint(0, 10000, size=64)\n",
    "    placeholder_values = {\n",
    "        x: x_[batch_indices],\n",
    "        y: y_[batch_indices]\n",
    "    }\n",
    "    \n",
    "    optimize.run(placeholder_values)\n",
    "    loss_history.append(np.mean(loss.eval(placeholder_values)))\n",
    "    regu_history.append(np.mean(regularizer.eval(placeholder_values)))"
   ]
  },
  {
   "cell_type": "code",
   "execution_count": 18,
   "metadata": {
    "collapsed": false
   },
   "outputs": [
    {
     "data": {
      "image/png": "[encoded data removed]",
      "text/plain": [
       "<matplotlib.figure.Figure at 0x7f86fefa4d90>"
      ]
     },
     "metadata": {},
     "output_type": "display_data"
    }
   ],
   "source": [
    "plt.plot(range(len(loss_history)), np.array(loss_history))\n",
    "plt.xlabel('Time')\n",
    "plt.ylabel('$(y - \\hat{y}) ^ 2$')\n",
    "plt.title('Loss vs Time')\n",
    "plt.show()"
   ]
  },
  {
   "cell_type": "code",
   "execution_count": 19,
   "metadata": {
    "collapsed": false
   },
   "outputs": [
    {
     "data": {
      "image/png": "[encoded data removed]",
      "text/plain": [
       "<matplotlib.figure.Figure at 0x7f87045e15d0>"
      ]
     },
     "metadata": {},
     "output_type": "display_data"
    }
   ],
   "source": [
    "plt.plot(range(len(regu_history)), np.array(regu_history))\n",
    "plt.xlabel('Time')\n",
    "plt.ylabel('$norm(W_1) + norm(W_2)$')\n",
    "plt.title('Regularizer vs Time')\n",
    "plt.show()"
   ]
  },
  {
   "cell_type": "code",
   "execution_count": 20,
   "metadata": {
    "collapsed": false
   },
   "outputs": [],
   "source": [
    "results = []\n",
    "\n",
    "for index in range(10000):\n",
    "    placeholder_values = {\n",
    "        x: np.expand_dims(x_[index], 0)\n",
    "    }\n",
    "    \n",
    "    results.append(prediction.eval(placeholder_values))"
   ]
  },
  {
   "cell_type": "code",
   "execution_count": 21,
   "metadata": {
    "collapsed": false
   },
   "outputs": [
    {
     "name": "stdout",
     "output_type": "stream",
     "text": [
      "Correctly classified 10000 / 10000\n"
     ]
    }
   ],
   "source": [
    "print 'Correctly classified', np.count_nonzero(np.squeeze(np.round(results).astype(np.int32)) == y_), '/', len(y_)"
   ]
  },
  {
   "cell_type": "markdown",
   "metadata": {},
   "source": [
    "# Alternative: Dropout\n",
    "Randomly set some of the hidden layer units to 0."
   ]
  },
  {
   "cell_type": "code",
   "execution_count": 38,
   "metadata": {
    "collapsed": true
   },
   "outputs": [],
   "source": [
    "# Reset the values\n",
    "tf.global_variables_initializer().run()"
   ]
  },
  {
   "cell_type": "code",
   "execution_count": 39,
   "metadata": {
    "collapsed": true
   },
   "outputs": [],
   "source": [
    "dropout = tf.placeholder(tf.float32)"
   ]
  },
  {
   "cell_type": "code",
   "execution_count": 40,
   "metadata": {
    "collapsed": true
   },
   "outputs": [],
   "source": [
    "h = tf.nn.sigmoid(tf.matmul(x, W1) + b1)\n",
    "h = tf.nn.dropout(h, keep_prob=1-dropout)\n",
    "prediction = tf.squeeze(tf.nn.sigmoid(tf.matmul(h, W2) + b2))"
   ]
  },
  {
   "cell_type": "code",
   "execution_count": 41,
   "metadata": {
    "collapsed": true
   },
   "outputs": [],
   "source": [
    "loss = (prediction - y) ** 2\n",
    "regularizer = tf.nn.l2_loss(W1) + tf.nn.l2_loss(W2)"
   ]
  },
  {
   "cell_type": "code",
   "execution_count": 42,
   "metadata": {
    "collapsed": true
   },
   "outputs": [],
   "source": [
    "optimizer = tf.train.GradientDescentOptimizer(0.01)\n",
    "optimize  = optimizer.minimize(loss)"
   ]
  },
  {
   "cell_type": "code",
   "execution_count": 43,
   "metadata": {
    "collapsed": true
   },
   "outputs": [],
   "source": [
    "regu_history = []\n",
    "loss_history = []\n",
    "\n",
    "for _ in range(1000):\n",
    "    batch_indices = np.random.randint(0, 10000, size=64)\n",
    "    placeholder_values = {\n",
    "        dropout: 0.2,\n",
    "        x: x_[batch_indices],\n",
    "        y: y_[batch_indices]\n",
    "    }\n",
    "    \n",
    "    optimize.run(placeholder_values)\n",
    "    loss_history.append(np.mean(loss.eval(placeholder_values)))\n",
    "    regu_history.append(np.mean(regularizer.eval(placeholder_values)))"
   ]
  },
  {
   "cell_type": "code",
   "execution_count": 44,
   "metadata": {
    "collapsed": false
   },
   "outputs": [
    {
     "data": {
      "image/png": "[encoded data removed]",
      "text/plain": [
       "<matplotlib.figure.Figure at 0x7f86fe66b350>"
      ]
     },
     "metadata": {},
     "output_type": "display_data"
    }
   ],
   "source": [
    "plt.plot(range(len(loss_history)), np.array(loss_history))\n",
    "plt.xlabel('Time')\n",
    "plt.ylabel('$(y - \\hat{y}) ^ 2$')\n",
    "plt.title('Loss vs Time')\n",
    "plt.show()"
   ]
  },
  {
   "cell_type": "code",
   "execution_count": 45,
   "metadata": {
    "collapsed": false
   },
   "outputs": [
    {
     "data": {
      "image/png": "[encoded data removed]",
      "text/plain": [
       "<matplotlib.figure.Figure at 0x7f86feadd690>"
      ]
     },
     "metadata": {},
     "output_type": "display_data"
    }
   ],
   "source": [
    "plt.plot(range(len(regu_history)), np.array(regu_history))\n",
    "plt.xlabel('Time')\n",
    "plt.ylabel('$norm(W_1) + norm(W_2)$')\n",
    "plt.title('Regularizer vs Time')\n",
    "plt.show()"
   ]
  },
  {
   "cell_type": "code",
   "execution_count": 46,
   "metadata": {
    "collapsed": true
   },
   "outputs": [],
   "source": [
    "results = []\n",
    "\n",
    "for index in range(10000):\n",
    "    placeholder_values = {\n",
    "        dropout: 0.0,\n",
    "        x: np.expand_dims(x_[index], 0)\n",
    "    }\n",
    "    \n",
    "    results.append(prediction.eval(placeholder_values))"
   ]
  },
  {
   "cell_type": "code",
   "execution_count": 47,
   "metadata": {
    "collapsed": false
   },
   "outputs": [
    {
     "name": "stdout",
     "output_type": "stream",
     "text": [
      "Correctly classified 10000 / 10000\n"
     ]
    }
   ],
   "source": [
    "print 'Correctly classified', np.count_nonzero(np.squeeze(np.round(results).astype(np.int32)) == y_), '/', len(y_)"
   ]
  }
 ],
 "metadata": {
  "kernelspec": {
   "display_name": "Python 2",
   "language": "python",
   "name": "python2"
  },
  "language_info": {
   "codemirror_mode": {
    "name": "ipython",
    "version": 2
   },
   "file_extension": ".py",
   "mimetype": "text/x-python",
   "name": "python",
   "nbconvert_exporter": "python",
   "pygments_lexer": "ipython2",
   "version": "2.7.13"
  }
 },
 "nbformat": 4,
 "nbformat_minor": 0
}
